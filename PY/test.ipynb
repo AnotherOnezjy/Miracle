{
 "cells": [],
 "metadata": {
  "interpreter": {
   "hash": "8399e005f5d48ba7fec8c8753a76bea6bcb77632393bf9c869587316381e65bc"
  },
  "kernelspec": {
   "display_name": "Python 3.10.0 64-bit",
   "language": "python",
   "name": "python3"
  },
  "language_info": {
   "codemirror_mode": {
    "name": "ipython",
    "version": 3
   },
   "file_extension": ".py",
   "mimetype": "text/x-python",
   "name": "python",
   "nbconvert_exporter": "python",
   "pygments_lexer": "ipython3",
   "version": "3.10.0"
  },
  "orig_nbformat": 4
 },
 "nbformat": 4,
 "nbformat_minor": 2
}
